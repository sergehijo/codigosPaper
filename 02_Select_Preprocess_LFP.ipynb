{
 "cells": [
  {
   "cell_type": "markdown",
   "metadata": {},
   "source": [
    "### Este paso sirve para detectar por inspección visual canales que tengan muchos artificios\n",
    "La deteccion se hace \n",
    "\n",
    "1) Mediante observación del grafico de todos los LFPs\n",
    "\n",
    "2) Mediante observacion de la distribucion de las derivadas del LFP (diferencial)\n",
    "\n",
    "3) Finalmente sustrae el promedio de los canales válidos de cada canal, por lo tanto, cada canal queda referenciado al promedio"
   ]
  },
  {
   "cell_type": "code",
   "execution_count": null,
   "metadata": {},
   "outputs": [],
   "source": [
    "%reset"
   ]
  },
  {
   "cell_type": "code",
   "execution_count": 2,
   "metadata": {},
   "outputs": [
    {
     "name": "stdout",
     "output_type": "stream",
     "text": [
      "Using matplotlib backend: Qt5Agg\n",
      "Populating the interactive namespace from numpy and matplotlib\n"
     ]
    }
   ],
   "source": [
    "import pickle\n",
    "% pylab\n",
    "import numpy as np\n",
    "import pandas as pd\n",
    "from matplotlib import pyplot as plt\n",
    "from scipy import signal\n",
    "#normal charts inside notebooks\n",
    "#%matplotlib inline"
   ]
  },
  {
   "cell_type": "markdown",
   "metadata": {},
   "source": [
    "### Vamos a abrir el pickle generado por el codigo 01_ExtraerLFP"
   ]
  },
  {
   "cell_type": "code",
   "execution_count": 10,
   "metadata": {
    "scrolled": true
   },
   "outputs": [],
   "source": [
    "# colocar la ruta y el nombre del archivo pickle generado con el codigo 01_ExtraerLFP\n",
    "\n",
    "# RAT 02\n",
    "#fname = 'Raw_LFP_RAT02_SP_7_2017_01_11_18_46_49'\n",
    "#ruta ='/home/romulo/DATA/Carolina/R02/RAT02_SP_7_2017_01_11_18_46_49/'\n",
    "\n",
    "# RAT 05\n",
    "#ruta = '/home/romulo/DATA/Carolina/C05/EC01_RC05_SP_10100uA_20171214/'\n",
    "#fname = 'Raw_LFP_RC05_SP_10100uA_20171214_170009'\n",
    "\n",
    "# RAT 03\n",
    "#ruta = '/home/romulo/DATA/Carolina/RR03/EC01_RRR03_SP_3500uA_20171215/'\n",
    "#fname = 'Raw_LFP_EC01_RRR03_SP_3500uA_20171215'\n",
    "\n",
    "#ruta = '/home/romulo/DATA/Carolina/RR03/EC01_RRR03_SP_3500uA_L-Dopa_20171215/'\n",
    "#fname = 'Raw_LFP_EC01_RRR03_SP_3500uA_L-Dopa_20171215'\n",
    "\n",
    "#ruta='/home/romulo/DATA/Carolina/RR03/EC01_RRR03_SP_4800uA_20171221/'\n",
    "#fname='Raw_LFP_EC01_RRR03_SP_4800uA_20171221'\n",
    "\n",
    "#ruta = '/home/romulo/DATA/Carolina/RR03/EC01_RRR03_SP_1240uA_20171212/'\n",
    "#fname = 'Raw_LFP_EC01_RRR03_SP_1240uA_20171212'\n",
    "\n",
    "# RAT N03\n",
    "#ruta = '/home/romulo/DATA/Carolina/N03/E01_RNA03_SP02_500mV_20170923/'\n",
    "#fname = 'Raw_LFP_E01_RNA03_SP02_500mV_20170923'\n",
    "\n",
    "# RAT 01\n",
    "#ruta = '/home/romulo/DATA/Carolina/RR01/EC01_RR01_SP_6000uA_20171229/'\n",
    "#fname = 'Raw_LFP_EC01_RR01_SP_6000uA_20171229'\n",
    "\n",
    "#ruta='/home/romulo/DATA/Carolina/RR01/EC01_RRR01_SP_12600uA__20180103/'\n",
    "#fname='Raw_LFP_EC01_RRR01_SP_12600uA__20180103'\n",
    "\n",
    "#ruta = '/home/romulo/DATA/Marmoset/'\n",
    "#fname = 'Raw_LFP_Deco_24102012_single_pulse_1Hz-01'\n",
    "\n",
    "\n",
    "##CAMBIOS SERGIO\n",
    "\n",
    "#RAT01\n",
    "#ruta ='/home/sergio/Documentos/MemoriaPractII/DatosCaro/RR01/EC01_RRR01_SP_12600uA__2018-01-03_13-09-47/'\n",
    "#fname='Raw_LFP_EC01_RRR01_SP_12600uA__20180103'\n",
    "\n",
    "#RAT02\n",
    "#ruta ='/home/sergio/Documentos/MemoriaPractII/DatosCaro/RAT02/RAT02_SP_7__2017-01-11_18-46-49/'\n",
    "#fname='Raw_LFP_RAT02_SP_7__20170111_184649'\n",
    "\n",
    "#RAT03\n",
    "#ruta ='/home/sergio/Documentos/MemoriaPractII/DatosCaro/RRR03/EC01_RRR03_SP_3500uA_2017-12-15_11-45-36/'\n",
    "#fname='LFP_EC01_RRR03_SP_3500uA_20171215'\n",
    "\n",
    "#RAT05\n",
    "#ruta ='/home/sergio/Documentos/MemoriaPractII/DatosCaro/RC05/EC01_RC05_SP_10100uA_2017-12-14_17-00-09/'\n",
    "#fname='LFP_EC01_RC05_SP_10100uA_20171214'\n",
    "\n",
    "lfp = pickle.load(open( ruta+fname+'.pickle', \"rb\" ) )\n"
   ]
  },
  {
   "cell_type": "markdown",
   "metadata": {},
   "source": [
    "# Changed channel areas nane to get differential referencing withinh the same area only for RAT02_SP_7_2017_01_11_18_46_49\n",
    "\n",
    "Referenced to area / right M2 was divided in two groups for referencing: CH25-CH29 and CH21-CH24\n",
    "19:23 and 23:28\n",
    "\n",
    "### SOLO PARA LA RATA 2"
   ]
  },
  {
   "cell_type": "code",
   "execution_count": null,
   "metadata": {},
   "outputs": [],
   "source": [
    "#de nuevo, solo para rata 2\n",
    "lfp.Area[19:23] = 'rM2a'\n",
    "lfp.Area[23:28] = 'rM2b'"
   ]
  },
  {
   "cell_type": "code",
   "execution_count": 11,
   "metadata": {},
   "outputs": [
    {
     "data": {
      "text/plain": [
       "[   Channel  Area OriginalSampleRate  SampleRate Use  \\\n",
       " 0      CH1   rVL              30000      1000.0   1   \n",
       " 1     CH10   rM1              30000      1000.0   1   \n",
       " 2     CH11   rM1              30000      1000.0   1   \n",
       " 3     CH12  rSTR              30000      1000.0   1   \n",
       " 4     CH13  rSTR              30000      1000.0   1   \n",
       " 5     CH14  rSTR              30000      1000.0   1   \n",
       " 6     CH15  rSTR              30000      1000.0   1   \n",
       " 7     CH16   rVL              30000      1000.0   1   \n",
       " 8     CH17  rVPL              30000      1000.0   1   \n",
       " 9     CH18  rVPL              30000      1000.0   1   \n",
       " 10    CH19   rS1              30000      1000.0   1   \n",
       " 11     CH2   rVL              30000      1000.0   1   \n",
       " 12    CH20   rS1              30000      1000.0   1   \n",
       " 13    CH21  rSTN              30000      1000.0   1   \n",
       " 14    CH22  rSTN              30000      1000.0   1   \n",
       " 15    CH23   rPf              30000      1000.0   1   \n",
       " 16    CH24   rPf              30000      1000.0   1   \n",
       " 17    CH25   rPf              30000      1000.0   1   \n",
       " 18    CH26   rPf              30000      1000.0   1   \n",
       " 19    CH27  rSTN              30000      1000.0   1   \n",
       " 20    CH28   rS1              30000      1000.0   1   \n",
       " 21    CH29   rS1              30000      1000.0   1   \n",
       " 22     CH3  rSTR              30000      1000.0   1   \n",
       " 23    CH30   rS1              30000      1000.0   1   \n",
       " 24    CH31  rVPL              30000      1000.0   1   \n",
       " 25    CH32  rVPL              30000      1000.0   1   \n",
       " 26    CH33   lVL              30000      1000.0   1   \n",
       " 27    CH34   lVL              30000      1000.0   1   \n",
       " 28    CH35  lSTR              30000      1000.0   1   \n",
       " 29    CH36  lSTR              30000      1000.0   1   \n",
       " ..     ...   ...                ...         ...  ..   \n",
       " 34    CH40   lM1              30000      1000.0   1   \n",
       " 35    CH41   lM1              30000      1000.0   1   \n",
       " 36    CH42   lM1              30000      1000.0   1   \n",
       " 37    CH43   lM1              30000      1000.0   1   \n",
       " 38    CH44  lSTR              30000      1000.0   1   \n",
       " 39    CH45  lSTR              30000      1000.0   1   \n",
       " 40    CH46  lSTR              30000      1000.0   1   \n",
       " 41    CH47  lSTR              30000      1000.0   1   \n",
       " 42    CH48   lVL              30000      1000.0   1   \n",
       " 43    CH49  lVPL              30000      1000.0   1   \n",
       " 44     CH5  rSTR              30000      1000.0   1   \n",
       " 45    CH50  lVPL              30000      1000.0   1   \n",
       " 46    CH51   lS1              30000      1000.0   1   \n",
       " 47    CH52   lS1              30000      1000.0   1   \n",
       " 48    CH53  lSTN              30000      1000.0   1   \n",
       " 49    CH54  lSTN              30000      1000.0   1   \n",
       " 50    CH55   lPf              30000      1000.0   1   \n",
       " 51    CH56   lPf              30000      1000.0   1   \n",
       " 52    CH57   lPf              30000      1000.0   1   \n",
       " 53    CH58   lPf              30000      1000.0   1   \n",
       " 54    CH59  lSTN              30000      1000.0   1   \n",
       " 55     CH6   rM1              30000      1000.0   1   \n",
       " 56    CH60   lS1              30000      1000.0   1   \n",
       " 57    CH61   lS1              30000      1000.0   1   \n",
       " 58    CH62   lS1              30000      1000.0   1   \n",
       " 59    CH63  lVPL              30000      1000.0   1   \n",
       " 60    CH64  lVPL              30000      1000.0   1   \n",
       " 61     CH7   rM1              30000      1000.0   1   \n",
       " 62     CH8   rM1              30000      1000.0   1   \n",
       " 63     CH9   rM1              30000      1000.0   1   \n",
       " \n",
       "                    Timestamps at original sample rate  \\\n",
       " 0   [7421700.0, 7422724.0, 7423748.0, 7424772.0, 7...   \n",
       " 1   [7421700.0, 7422724.0, 7423748.0, 7424772.0, 7...   \n",
       " 2   [7421700.0, 7422724.0, 7423748.0, 7424772.0, 7...   \n",
       " 3   [7421700.0, 7422724.0, 7423748.0, 7424772.0, 7...   \n",
       " 4   [7421700.0, 7422724.0, 7423748.0, 7424772.0, 7...   \n",
       " 5   [7421700.0, 7422724.0, 7423748.0, 7424772.0, 7...   \n",
       " 6   [7421700.0, 7422724.0, 7423748.0, 7424772.0, 7...   \n",
       " 7   [7421700.0, 7422724.0, 7423748.0, 7424772.0, 7...   \n",
       " 8   [7421700.0, 7422724.0, 7423748.0, 7424772.0, 7...   \n",
       " 9   [7421700.0, 7422724.0, 7423748.0, 7424772.0, 7...   \n",
       " 10  [7421700.0, 7422724.0, 7423748.0, 7424772.0, 7...   \n",
       " 11  [7421700.0, 7422724.0, 7423748.0, 7424772.0, 7...   \n",
       " 12  [7421700.0, 7422724.0, 7423748.0, 7424772.0, 7...   \n",
       " 13  [7421700.0, 7422724.0, 7423748.0, 7424772.0, 7...   \n",
       " 14  [7421700.0, 7422724.0, 7423748.0, 7424772.0, 7...   \n",
       " 15  [7421700.0, 7422724.0, 7423748.0, 7424772.0, 7...   \n",
       " 16  [7421700.0, 7422724.0, 7423748.0, 7424772.0, 7...   \n",
       " 17  [7421700.0, 7422724.0, 7423748.0, 7424772.0, 7...   \n",
       " 18  [7421700.0, 7422724.0, 7423748.0, 7424772.0, 7...   \n",
       " 19  [7421700.0, 7422724.0, 7423748.0, 7424772.0, 7...   \n",
       " 20  [7421700.0, 7422724.0, 7423748.0, 7424772.0, 7...   \n",
       " 21  [7421700.0, 7422724.0, 7423748.0, 7424772.0, 7...   \n",
       " 22  [7421700.0, 7422724.0, 7423748.0, 7424772.0, 7...   \n",
       " 23  [7421700.0, 7422724.0, 7423748.0, 7424772.0, 7...   \n",
       " 24  [7421700.0, 7422724.0, 7423748.0, 7424772.0, 7...   \n",
       " 25  [7421700.0, 7422724.0, 7423748.0, 7424772.0, 7...   \n",
       " 26  [7421700.0, 7422724.0, 7423748.0, 7424772.0, 7...   \n",
       " 27  [7421700.0, 7422724.0, 7423748.0, 7424772.0, 7...   \n",
       " 28  [7421700.0, 7422724.0, 7423748.0, 7424772.0, 7...   \n",
       " 29  [7421700.0, 7422724.0, 7423748.0, 7424772.0, 7...   \n",
       " ..                                                ...   \n",
       " 34  [7421700.0, 7422724.0, 7423748.0, 7424772.0, 7...   \n",
       " 35  [7421700.0, 7422724.0, 7423748.0, 7424772.0, 7...   \n",
       " 36  [7421700.0, 7422724.0, 7423748.0, 7424772.0, 7...   \n",
       " 37  [7421700.0, 7422724.0, 7423748.0, 7424772.0, 7...   \n",
       " 38  [7421700.0, 7422724.0, 7423748.0, 7424772.0, 7...   \n",
       " 39  [7421700.0, 7422724.0, 7423748.0, 7424772.0, 7...   \n",
       " 40  [7421700.0, 7422724.0, 7423748.0, 7424772.0, 7...   \n",
       " 41  [7421700.0, 7422724.0, 7423748.0, 7424772.0, 7...   \n",
       " 42  [7421700.0, 7422724.0, 7423748.0, 7424772.0, 7...   \n",
       " 43  [7421700.0, 7422724.0, 7423748.0, 7424772.0, 7...   \n",
       " 44  [7421700.0, 7422724.0, 7423748.0, 7424772.0, 7...   \n",
       " 45  [7421700.0, 7422724.0, 7423748.0, 7424772.0, 7...   \n",
       " 46  [7421700.0, 7422724.0, 7423748.0, 7424772.0, 7...   \n",
       " 47  [7421700.0, 7422724.0, 7423748.0, 7424772.0, 7...   \n",
       " 48  [7421700.0, 7422724.0, 7423748.0, 7424772.0, 7...   \n",
       " 49  [7421700.0, 7422724.0, 7423748.0, 7424772.0, 7...   \n",
       " 50  [7421700.0, 7422724.0, 7423748.0, 7424772.0, 7...   \n",
       " 51  [7421700.0, 7422724.0, 7423748.0, 7424772.0, 7...   \n",
       " 52  [7421700.0, 7422724.0, 7423748.0, 7424772.0, 7...   \n",
       " 53  [7421700.0, 7422724.0, 7423748.0, 7424772.0, 7...   \n",
       " 54  [7421700.0, 7422724.0, 7423748.0, 7424772.0, 7...   \n",
       " 55  [7421700.0, 7422724.0, 7423748.0, 7424772.0, 7...   \n",
       " 56  [7421700.0, 7422724.0, 7423748.0, 7424772.0, 7...   \n",
       " 57  [7421700.0, 7422724.0, 7423748.0, 7424772.0, 7...   \n",
       " 58  [7421700.0, 7422724.0, 7423748.0, 7424772.0, 7...   \n",
       " 59  [7421700.0, 7422724.0, 7423748.0, 7424772.0, 7...   \n",
       " 60  [7421700.0, 7422724.0, 7423748.0, 7424772.0, 7...   \n",
       " 61  [7421700.0, 7422724.0, 7423748.0, 7424772.0, 7...   \n",
       " 62  [7421700.0, 7422724.0, 7423748.0, 7424772.0, 7...   \n",
       " 63  [7421700.0, 7422724.0, 7423748.0, 7424772.0, 7...   \n",
       " \n",
       "                                                   LFP  \n",
       " 0   [-0.039002240330905824, -0.0094161599125272, 0...  \n",
       " 1   [-0.1178240519262988, -0.24824184279781694, -0...  \n",
       " 2   [0.13720021898177415, 0.16353805527955478, 0.1...  \n",
       " 3   [-0.008404113749680642, 0.01951941723601236, 0...  \n",
       " 4   [0.06139709051385395, 0.07143321603262487, 0.1...  \n",
       " 5   [-0.04010107888607439, -0.08262115759189093, -...  \n",
       " 6   [-0.14958662545734414, -0.14334475905707522, -...  \n",
       " 7   [-0.0025958875377797286, 0.00913731742851176, ...  \n",
       " 8   [-0.05592128334322244, -0.08136490533951424, -...  \n",
       " 9   [-0.22666893138938926, -0.20977531457308984, -...  \n",
       " 10  [-0.04837396975531605, 0.0244634570722832, 0.2...  \n",
       " 11  [0.04159812786868533, 0.00027884248401521816, ...  \n",
       " 12  [0.17741995829505192, 0.09582261202440573, 0.0...  \n",
       " 13  [-0.12882102508927862, -0.08300167539777537, -...  \n",
       " 14  [0.4353548242898009, 0.29627409428981627, 0.28...  \n",
       " 15  [-0.1155542303319419, -0.08194714031242478, -0...  \n",
       " 16  [0.3627542611918686, 0.3089502729333146, 0.503...  \n",
       " 17  [-0.24287950504619882, -0.20822343512448283, -...  \n",
       " 18  [-0.004320525813727549, -0.018779697496407177,...  \n",
       " 19  [-0.30653379920052237, -0.21327241889204085, -...  \n",
       " 20  [-0.0922281879407919, -0.14682273200323465, -0...  \n",
       " 21  [-0.08647576153582692, -0.19733076280697837, -...  \n",
       " 22  [-0.09733366019690048, -0.062240345333220315, ...  \n",
       " 23  [0.04965796093688307, 0.22386742571352408, 0.3...  \n",
       " 24  [0.4288037893321669, 0.4116853501943848, 0.401...  \n",
       " 25  [-0.1462135745995552, -0.12054513028178093, -0...  \n",
       " 26  [-0.08040101875634348, -0.18591265076110108, -...  \n",
       " 27  [0.039481517594807725, 0.16788220454444236, 0....  \n",
       " 28  [0.01988309648704434, 0.08931921942828736, 0.0...  \n",
       " 29  [-0.06659578794802273, -0.02481070702640864, 0...  \n",
       " ..                                                ...  \n",
       " 34  [-0.5174431907310976, -0.49770386113617715, -0...  \n",
       " 35  [-0.46854292479037407, -0.5782888558740473, -0...  \n",
       " 36  [-0.25054206765914105, -0.27959921070408666, -...  \n",
       " 37  [0.3329281291162474, 0.4217606762389019, 0.450...  \n",
       " 38  [-0.0017364880514761927, 0.005056890477525555,...  \n",
       " 39  [0.1056893363609479, 0.1641586772958159, 0.209...  \n",
       " 40  [-0.13611809929426405, -0.06740192082160656, -...  \n",
       " 41  [0.040466482541465565, 0.0027251633633357253, ...  \n",
       " 42  [0.040919501161535754, 0.01803044621665878, 0....  \n",
       " 43  [0.348617685079475, 0.3205769776007287, 0.3033...  \n",
       " 44  [0.08804928825098873, 0.11233239398649147, 0.0...  \n",
       " 45  [-0.14873376696481583, -0.23065020410666345, -...  \n",
       " 46  [0.02797645041158775, 0.03504541753244461, 0.0...  \n",
       " 47  [-0.0027865755737621067, 0.05424812850942906, ...  \n",
       " 48  [0.14529065033204547, 0.16368174190070917, 0.1...  \n",
       " 49  [-0.052584437649195404, -0.0030380922010272426...  \n",
       " 50  [0.17881398202359644, 0.17710357823413825, 0.1...  \n",
       " 51  [-0.182147350589551, -0.36874507867960926, -0....  \n",
       " 52  [0.11521068115483435, 0.2566424243652431, 0.11...  \n",
       " 53  [-0.11187731258888, -0.06500092391977219, -0.1...  \n",
       " 54  [-0.0927062126828499, -0.16064364969968176, -0...  \n",
       " 55  [0.02157711557417824, 0.15275642215114482, 0.0...  \n",
       " 56  [-0.007639294633761173, -0.008877521165411517,...  \n",
       " 57  [-0.04883866741590992, -0.10285407664115881, -...  \n",
       " 58  [0.03128808721184512, 0.02243805176469693, 0.0...  \n",
       " 59  [0.04838472852983, 0.06483727983128973, 0.1368...  \n",
       " 60  [-0.24826864664448914, -0.15476405332535476, -...  \n",
       " 61  [0.10333300052672834, 0.1411648930775639, 0.12...  \n",
       " 62  [0.05547174504930136, 0.04684148158154525, 0.0...  \n",
       " 63  [-0.19975802820568322, -0.25605900929199205, -...  \n",
       " \n",
       " [64 rows x 7 columns],\n",
       " 'referencing to zscored average of the area that electrodes',\n",
       " array([-0.72335945, -0.71975747, -0.36602077, ..., -0.76922765,\n",
       "         0.00084781,  0.00084781])]"
      ]
     },
     "execution_count": 11,
     "metadata": {},
     "output_type": "execute_result"
    }
   ],
   "source": [
    "lfp"
   ]
  },
  {
   "cell_type": "markdown",
   "metadata": {},
   "source": [
    "# Seleccionar los canales a no usar, primero graficar los lfps en el tiempo y la distribucion de las diferenciales"
   ]
  },
  {
   "cell_type": "code",
   "execution_count": 13,
   "metadata": {},
   "outputs": [],
   "source": [
    "# Grafica todos los canales\n",
    "N = 2 # ORDEN DEL FILTRO\n",
    "#sr\n",
    "sampleRate = lfp.SampleRate[0]\n",
    "nyq = sampleRate/2.0\n",
    "f1 = 0.1 # FRECUENCIAS DE CORTE\n",
    "f2 = 75.0 # FRECUENCIAS DE CORTE\n",
    "# band pass freqs expressed as Nyquist\n",
    "Wn = np.array([f1/nyq, f2/nyq])\n",
    "# design parameters for the butter filter\n",
    "#Butter es un filtro pasabanda Butterworth. N es el orden del filtro, Wn el rango, analog se elige Falso\n",
    "# para obtener un filtro digital. b es el denominador y a el numerador.  \n",
    "b,a = signal.butter(N, Wn, btype='bandpass', analog=False)\n",
    "\n",
    "#1) graficar todos los lfps en el tiempo\n",
    "bar = 1000\n",
    "fig, ax = subplots()\n",
    "#sampleRate = lfp.SampleRate[0]\n",
    "aux = len(lfp.LFP[0])\n",
    "#numpy.arange([start, ]stop, [step, ]\n",
    "t = arange(1/sampleRate,aux/sampleRate+1/sampleRate,1/sampleRate)\n",
    "\n",
    "for i in range(0,len(lfp)):\n",
    "    #Filtfilt is a filter that doesnt cause any phase distortions. padlen length of padding vector. None default\n",
    "    x=signal.filtfilt(b, a, lfp.LFP[i], padlen=None) # with filter\n",
    "    #x = lfp.LFP[i] # no filter\n",
    "    ax.plot(t,x+bar*i)\n",
    "    if i == 0:\n",
    "        lowerlim = min(lfp.LFP[i]+bar*i)\n",
    "    if i == len(lfp)-1:\n",
    "        upperlim = max(lfp.LFP[i]+bar*i)\n",
    "i = i+1\n",
    "#ax.plot(t,average_lfp+bar*i)\n",
    "ax.set_yticks(range(0,(i+1)*bar,bar))\n",
    "ax.set_yticklabels(lfp.Area+lfp.Channel)\n",
    "ax.set_xlim([t[0],t[-1]])\n",
    "ax.set_ylim(lowerlim,upperlim)\n",
    "plt.tight_layout()\n",
    "#plt.savefig('RR01_All_Channels.png', bbox_inches='tight')\n",
    "#plt.close('all')"
   ]
  },
  {
   "cell_type": "code",
   "execution_count": null,
   "metadata": {},
   "outputs": [],
   "source": [
    "# Grafica por area\n",
    "N = 2 # ORDEN DEL FILTRO\n",
    "sr = lfp.SampleRate[0]\n",
    "nyq = sr/2.0\n",
    "f1 = 0.1 # FRECUENCIAS DE CORTE\n",
    "f2 = 75.0 # FRECUENCIAS DE CORTE\n",
    "# band pass freqs expressed as Nyquist\n",
    "Wn = np.array([f1/nyq, f2/nyq])\n",
    "# design parameters for the butter filter\n",
    "b,a = signal.butter(N, Wn, btype='bandpass', analog=False)\n",
    "\n",
    "bar = 1000\n",
    "\n",
    "sampleRate = lfp.SampleRate[0]\n",
    "aux = len(lfp.LFP[0])\n",
    "t = arange(1/sampleRate,aux/sampleRate+1/sampleRate,1/sampleRate)\n",
    "\n",
    "\n",
    "UniqAreas=unique(lfp.Area.tolist())\n",
    "for i in UniqAreas:\n",
    "    fig, ax = subplots()\n",
    "    ind = np.where(lfp.Area==i)\n",
    "    ind=ind[0]\n",
    "    c=0\n",
    "    #print i\n",
    "    yticklabels = []\n",
    "    for j in ind:\n",
    "        print (j)\n",
    "        #x=signal.filtfilt(b, a, lfp.LFP[j], padlen=None) # with filter\n",
    "        x = lfp.LFP[j] # no filter\n",
    "        ax.plot(t,x+bar*c)\n",
    "        yticklabels.append(lfp.Channel[j]+'-'+lfp.Area[j])\n",
    "        c=c+1\n",
    "    ax.set_yticks(range(0,(c+1)*bar,bar))\n",
    "    ax.set_yticklabels(yticklabels)\n",
    "    ax.set_xlim([t[0],t[-1]])\n",
    "    #ax.set_ylim(lowerlim,upperlim)\n",
    "    plt.tight_layout()\n",
    "    ax.set_title(i)\n",
    "    #plt.savefig('RR01_By_Area_'+str(UniqAreas)+'.png', bbox_inches='tight')"
   ]
  },
  {
   "cell_type": "code",
   "execution_count": 5,
   "metadata": {},
   "outputs": [],
   "source": [
    "close('all')"
   ]
  },
  {
   "cell_type": "code",
   "execution_count": null,
   "metadata": {},
   "outputs": [],
   "source": [
    "print (len(yticklabels))\n",
    "print(len(ind))"
   ]
  },
  {
   "cell_type": "code",
   "execution_count": null,
   "metadata": {},
   "outputs": [],
   "source": [
    "ind = np.where(lfp.Area==i)\n",
    "ind"
   ]
  },
  {
   "cell_type": "code",
   "execution_count": null,
   "metadata": {},
   "outputs": [],
   "source": [
    "i"
   ]
  },
  {
   "cell_type": "code",
   "execution_count": 4,
   "metadata": {},
   "outputs": [],
   "source": [
    "# 2)Grafica la distribucion de la derivada de la señal de LFP por canal\n",
    "b = 1000\n",
    "fig, ax_array = subplots(nrows=8,ncols=8)\n",
    "for i in range(0,8):\n",
    "    for j in range(0,8):\n",
    "        ax = ax_array[i,j]\n",
    "        if i*8+j < len(lfp):\n",
    "            aux = lfp.LFP[i*8+j]\n",
    "            ax.hist(diff(aux),bins=b, range =[-1000, 1000])\n",
    "            ax.set_title(lfp.Channel[i*8+j])\n",
    "            ax.set_ylim(0,20)       "
   ]
  },
  {
   "cell_type": "markdown",
   "metadata": {},
   "source": [
    "# Put here channels you are not going to use, those will be removed from the data frame"
   ]
  },
  {
   "cell_type": "code",
   "execution_count": 6,
   "metadata": {},
   "outputs": [],
   "source": [
    "# RAT 01\n",
    "#Raw_LFP_EC01_RR01_SP_6000uA_20171229 BAD , DONT USE\n",
    "# Raw_LFP_EC01_RRR01_SP_12600uA__20180103\n",
    "#Channels2Remove = ['CH19', 'CH37', 'CH38']\n",
    "\n",
    "# LFP_RAT02_SP_7_2017_01_11_18_46_49\n",
    "#Channels2Remove=[]\n",
    "\n",
    "# EC01_RRR03_SP_3500uA_20171215\n",
    "#Channels2Remove=['CH2', 'CH7', 'CH10', 'CH15', 'CH27', 'CH29', 'CH31', 'CH40', 'CH53']\n",
    "\n",
    "#RC05_SP_10100uA_20171214_170009\n",
    "Channels2Remove=[]\n",
    "#------------------------------------------------#\n",
    "# EC01_RRR03_SP_1240uA_20171212\n",
    "# Channels2Remove = ['CH25', 'CH28', 'CH60']\n",
    "# EC01_RRR03_SP_3500uA_20171215\n",
    "#Channels2Remove=['CH2', 'CH7', 'CH10', 'CH15', 'CH27', 'CH29', 'CH31', 'CH40', 'CH53']\n",
    "# Channels2Remove = [] # none, they are clearly different between electrode 1 and 2\n",
    "#  E01_RNA03_SP02_500mV_20170923\n",
    "# Channels2Remove = [] # none, yet, recording seems to be highly contaminated with 50 Hz"
   ]
  },
  {
   "cell_type": "code",
   "execution_count": 7,
   "metadata": {},
   "outputs": [
    {
     "name": "stdout",
     "output_type": "stream",
     "text": [
      "64\n",
      "64\n"
     ]
    }
   ],
   "source": [
    "# identify the indices of the channels you want to remove and remove the rows from the dataframe\n",
    "indices = []\n",
    "for i in Channels2Remove:\n",
    "    ind = np.where(lfp.Channel==i)\n",
    "    ind = int(ind[0])\n",
    "    indices.append(ind)\n",
    "original_len= len(lfp)\n",
    "lfp.drop(indices,axis=0,inplace=True)\n",
    "lfp.reset_index(inplace=True)\n",
    "lfp.drop('index',axis=1,inplace=True)\n",
    "print (original_len)\n",
    "print (len(lfp))"
   ]
  },
  {
   "cell_type": "markdown",
   "metadata": {
    "collapsed": true
   },
   "source": [
    "# Referenciar (restar) el promedio de los canales válidos a cada canal válido"
   ]
  },
  {
   "cell_type": "code",
   "execution_count": null,
   "metadata": {
    "scrolled": true
   },
   "outputs": [],
   "source": [
    "# create receptor array for all valid LFPs\n",
    "lfp_array = np.zeros( (len(lfp),len(lfp.LFP[0])) )\n",
    "shape(lfp_array)\n",
    "# channels are demeaned and zscored and put into receptor array to compute average LFP\n",
    "for i in range(0,len(lfp)):\n",
    "    ad = lfp.LFP[i] - np.mean(lfp.LFP[i]) # demeaning\n",
    "    lfp_array[i,:]= (ad - np.mean(ad)) / np.std(ad)\n",
    "    \n",
    "average_lfp = np.mean(lfp_array,axis=0)\n",
    "\n",
    "fig, ax=subplots()\n",
    "ax.plot(average_lfp)\n",
    "ax.set_title('Your average LFP')\n",
    "\n",
    "# selected valid LFP are demeaned, zscored and the average demeaned zscored LFP is subtracted\n",
    "# result is put back  in the panda dataframe\n",
    "\n",
    "#compara un canal unico antes y despues de la referenciacion\n",
    "fig, ax = subplots()\n",
    "ad = lfp.LFP[0] - np.mean(lfp.LFP[0]) # demeaning\n",
    "lfprawzscored =  (ad - np.mean(ad)) / np.std(ad)\n",
    "ax.plot(lfprawzscored,'b')\n",
    "\n",
    "for i in range(0,len(lfp)):\n",
    "    print i\n",
    "    ad = lfp.LFP[i] - np.mean(lfp.LFP[i]) # demeaning\n",
    "    lfp.LFP[i] =  ((ad - np.mean(ad)) / np.std(ad)) - average_lfp\n",
    "    \n",
    "ax.plot(lfp.LFP[0],'r')"
   ]
  },
  {
   "cell_type": "markdown",
   "metadata": {},
   "source": [
    "# Referenciar (restar) el promedio por electrodo canales (1-32) y luego canales (33-64)"
   ]
  },
  {
   "cell_type": "code",
   "execution_count": null,
   "metadata": {},
   "outputs": [],
   "source": [
    "ChanList = { 'Electrode1':['CH1', 'CH2', 'CH3', 'CH4', 'CH5', 'CH6', 'CH7', 'CH8', 'CH9', 'CH10', 'CH11', 'CH12',\n",
    "                           'CH13', 'CH14', 'CH15', 'CH16', 'CH17', 'CH18', 'CH19', 'CH20', 'CH21', 'CH22', 'CH23',\n",
    "                           'CH24', 'CH25', 'CH26', 'CH27', 'CH28', 'CH29', 'CH30', 'CH31', 'CH32'],\n",
    "             'Electrode2': ['CH33', 'CH34', 'CH35', 'CH36', 'CH37', 'CH38', 'CH39', 'CH40', 'CH41', 'CH42', 'CH43',\n",
    "                            'CH44', 'CH45', 'CH46', 'CH47', 'CH48', 'CH49', 'CH50', 'CH51', 'CH52', 'CH53', 'CH54',\n",
    "                            'CH55', 'CH56', 'CH57', 'CH58', 'CH59', 'CH60', 'CH61', 'CH62', 'CH63', 'CH64']\n",
    "            }\n",
    "\n",
    "for i in range(0,len(ChanList)):\n",
    "    aux=ChanList[ChanList.keys()[i]]\n",
    "    lfp_array=np.zeros( (len(aux) , len(lfp.LFP[0])) ) \n",
    "    for j in range(0,len(aux)):\n",
    "        ind = np.where(lfp.Channel==aux[j])\n",
    "        ind= int(ind[0])\n",
    "        ad =lfp.LFP[ind]\n",
    "        add = ad - np.mean(ad) # demeaning\n",
    " \n",
    "        lfp_array[j,:]= (add - np.mean(add)) / np.std(add)\n",
    "        \n",
    "    average_lfp = np.mean(lfp_array,axis=0)\n",
    "    for j in range(0,len(aux)):\n",
    "        ad =lfp.LFP[ind]\n",
    "        add = ad - np.mean(ad) # demeaning\n",
    "        lfp.LFP[ind] = ((add - np.mean(add)) / np.std(add)) - average_lfp\n"
   ]
  },
  {
   "cell_type": "markdown",
   "metadata": {},
   "source": [
    "# Referenciar (restar) con promedio de cada área "
   ]
  },
  {
   "cell_type": "code",
   "execution_count": 8,
   "metadata": {},
   "outputs": [
    {
     "name": "stdout",
     "output_type": "stream",
     "text": [
      "[31 32 34 35 36 37]\n"
     ]
    },
    {
     "name": "stderr",
     "output_type": "stream",
     "text": [
      "/home/sergio/miniconda3/lib/python3.6/site-packages/ipykernel_launcher.py:21: SettingWithCopyWarning: \n",
      "A value is trying to be set on a copy of a slice from a DataFrame\n",
      "\n",
      "See the caveats in the documentation: http://pandas.pydata.org/pandas-docs/stable/indexing.html#indexing-view-versus-copy\n"
     ]
    },
    {
     "name": "stdout",
     "output_type": "stream",
     "text": [
      "[50 51 52 53]\n",
      "[46 47 56 57 58]\n",
      "[48 49 54]\n",
      "[28 29 30 38 39 40 41]\n",
      "[26 27 42]\n",
      "[43 45 59 60]\n",
      "[ 1  2 55 61 62 63]\n",
      "[15 16 17 18]\n",
      "[10 12 20 21 23]\n",
      "[13 14 19]\n",
      "[ 3  4  5  6 22 33 44]\n",
      "[ 0  7 11]\n",
      "[ 8  9 24 25]\n"
     ]
    }
   ],
   "source": [
    "AreaList=lfp.Area.tolist()\n",
    "UniqAreas=unique(AreaList)\n",
    "for i in UniqAreas:\n",
    "    ind = np.where(lfp.Area==i)\n",
    "    ind=ind[0]\n",
    "    print (ind), (len(ind))\n",
    "    lfp_array=np.zeros( (len(ind), len(lfp.LFP[0])) ) \n",
    "    lfp_array2=np.zeros( (len(ind), len(lfp.LFP[0])) ) \n",
    "    c=0\n",
    "    \n",
    "    for j in ind:  \n",
    "        ad =lfp.LFP[j]\n",
    "        add = ad - np.mean(ad) # demeaning\n",
    "        lfp_array[c,:]= (add - np.mean(add)) / np.std(add) # z-scoring        \n",
    "        c=c+1\n",
    "    average_lfp = np.mean(lfp_array,axis=0)\n",
    "    \n",
    "    for j in ind:\n",
    "        ad =lfp.LFP[j]\n",
    "        add = ad - np.mean(ad) # demeaning\n",
    "        lfp.LFP[j] = ((add - np.mean(add)) / np.std(add)) - average_lfp # substracting z-scores"
   ]
  },
  {
   "cell_type": "code",
   "execution_count": null,
   "metadata": {},
   "outputs": [],
   "source": []
  },
  {
   "cell_type": "code",
   "execution_count": 9,
   "metadata": {},
   "outputs": [
    {
     "name": "stdout",
     "output_type": "stream",
     "text": [
      "/home/sergio/Documentos/MemoriaPractII/DatosCaro/RC05/EC01_RC05_SP_10100uA_2017-12-14_17-00-09/LFP_EC01_RC05_SP_10100uA_20171214.pickle\n",
      "The file below will be saved. Save?(Y/n):Y\n",
      "Saving file to /home/sergio/Documentos/MemoriaPractII/DatosCaro/RC05/EC01_RC05_SP_10100uA_2017-12-14_17-00-09/LFP_EC01_RC05_SP_10100uA_20171214.pickle...\n"
     ]
    }
   ],
   "source": [
    "# save proccessed LFP file\n",
    "\n",
    "processing = 'referencing to zscored average of the area that electrodes'\n",
    "file2save = ruta+'LFP_'+fname[8:]+'.pickle'\n",
    "print (file2save)\n",
    "answer = input('The file below will be saved. Save?(Y/n):')\n",
    "if answer == 'n':\n",
    "    print ('Saving canceled')\n",
    "elif answer == 'Y':\n",
    "    print ('Saving file to %s...' % (file2save))\n",
    "    # Guarda el archivo\n",
    "\n",
    "    pickle.dump([lfp,processing,average_lfp], open(file2save, \"wb\" ) ) \n",
    "else:\n",
    "    print ('Saving canceled')"
   ]
  },
  {
   "cell_type": "code",
   "execution_count": null,
   "metadata": {},
   "outputs": [],
   "source": []
  },
  {
   "cell_type": "code",
   "execution_count": null,
   "metadata": {},
   "outputs": [],
   "source": []
  },
  {
   "cell_type": "code",
   "execution_count": null,
   "metadata": {},
   "outputs": [],
   "source": []
  },
  {
   "cell_type": "code",
   "execution_count": null,
   "metadata": {},
   "outputs": [],
   "source": []
  },
  {
   "cell_type": "code",
   "execution_count": null,
   "metadata": {},
   "outputs": [],
   "source": []
  },
  {
   "cell_type": "code",
   "execution_count": null,
   "metadata": {},
   "outputs": [],
   "source": [
    " "
   ]
  },
  {
   "cell_type": "code",
   "execution_count": null,
   "metadata": {},
   "outputs": [],
   "source": []
  },
  {
   "cell_type": "code",
   "execution_count": null,
   "metadata": {},
   "outputs": [],
   "source": []
  },
  {
   "cell_type": "code",
   "execution_count": null,
   "metadata": {
    "scrolled": true
   },
   "outputs": [],
   "source": []
  },
  {
   "cell_type": "code",
   "execution_count": null,
   "metadata": {},
   "outputs": [],
   "source": []
  },
  {
   "cell_type": "code",
   "execution_count": null,
   "metadata": {},
   "outputs": [],
   "source": []
  },
  {
   "cell_type": "code",
   "execution_count": null,
   "metadata": {},
   "outputs": [],
   "source": [
    "len(lfp.LFP[0]) "
   ]
  },
  {
   "cell_type": "code",
   "execution_count": null,
   "metadata": {},
   "outputs": [],
   "source": [
    "ruta"
   ]
  }
 ],
 "metadata": {
  "kernelspec": {
   "display_name": "Python 3",
   "language": "python",
   "name": "python3"
  },
  "language_info": {
   "codemirror_mode": {
    "name": "ipython",
    "version": 3
   },
   "file_extension": ".py",
   "mimetype": "text/x-python",
   "name": "python",
   "nbconvert_exporter": "python",
   "pygments_lexer": "ipython3",
   "version": "3.6.3"
  }
 },
 "nbformat": 4,
 "nbformat_minor": 1
}
