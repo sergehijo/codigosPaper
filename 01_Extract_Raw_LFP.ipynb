{
 "cells": [
  {
   "cell_type": "markdown",
   "metadata": {},
   "source": [
    "Este codigo extrae los lfp canal por canal, opcionalmente los filtra, \n",
    "hace dowsampling y los pone en una variable y guarda la variable disco\n",
    "### Pseudo código\n",
    "1. saber los nombres de todos los archivos de lfp de esa sesion \n",
    "2. hacer un loop for con el numero\n",
    "3. dentro del loop> cargar un canal-archivo\n",
    "4. No vamos a filtrar aqui (opcional), comentar o descomentar la linea de filtrado\n",
    "5. Hacer dowsampling del lfp\n",
    "6. El resultado se pone en una dataframe panda\n",
    "7. Guardar el archivo\n",
    "\n",
    "notas, se debe conservar el numero de canal , y otras informaciones "
   ]
  },
  {
   "cell_type": "code",
   "execution_count": null,
   "metadata": {
    "scrolled": true
   },
   "outputs": [],
   "source": [
    "import sys\n",
    "sys.path.append('/home/sergio/Documentos/MemoriaPractII/Open Ephys/analysis-tools-master')"
   ]
  },
  {
   "cell_type": "code",
   "execution_count": null,
   "metadata": {},
   "outputs": [],
   "source": [
    "%pylab\n",
    "import pickle\n",
    "from glob import glob\n",
    "import OpenEphys as OE\n",
    "import os\n",
    "import scipy\n",
    "import pandas as pd\n",
    "\n",
    "#import statistics as stats"
   ]
  },
  {
   "cell_type": "code",
   "execution_count": null,
   "metadata": {
    "scrolled": false
   },
   "outputs": [],
   "source": [
    "# definir el root path del directorio donde estan los archivos\n",
    "#rootpath = '/home/romulo/DATA/FLORENCIA/test/'\n",
    "#rootpath = '/home/romulo/DATA/PATO/SERT_ALCE01_2016-09-13_17-07-18/'\n",
    "# rootpath = '/home/romulo/DATA/FLORENCIA/daniel_2016_12_28/'\n",
    "# rootpath = '/home/romulo/DATA/FLORENCIA/Kobe_2016_06_01/'\n",
    "#rootpath = '/home/romulo/DATA/PATO/SERT_A01_2016_07_21/'\n",
    "# rootpath = '/home/romulo/DATA/FLORENCIA/daniel_2016_12_28/'\n",
    "#rootpath = '/home/romulo/DATA/Carolina/R02/RAT02_SP_7_2017_01_11_18_46_49/'\n",
    "#rootpath = '/home/romulo/DATA/Carolina/RR01/EC01_RRR01_SP_2650uA_2017-12-01_17-01-13/'\n",
    "#rootpath = '/home/romulo/DATA/Carolina/C05/EC01_RC05_SP_10100uA_20171214_170009/'\n",
    "#rootpath = '/media/romulo/USB DISK/CARO/RAT02_SP_7__2017-01-11_18-46-49/'\n",
    "\n",
    "#rootpath='/home/romulo/DATA/Carolina/RR03/EC01_RRR03_SP_3500uA_20171215/'\n",
    "#rootpath='/home/romulo/DATA/Carolina/RR03/EC01_RRR03_SP_3500uA_L-Dopa_20171215/'\n",
    "#rootpath='/home/romulo/DATA/Carolina/RR03/EC01_RRR03_SP_4800uA_20171221/'\n",
    "#rootpath='/home/romulo/DATA/Carolina/RR03/EC01_RRR03_SP_1240uA_20171212/'\n",
    "#rootpath='/home/romulo/DATA/Carolina/N03/E01_RNA03_SP02_500mV_20170923/'\n",
    "# rootpath = '/home/romulo/DATA/Carolina/RR01/EC01_RR01_SP_6000uA_20171229/' not good\n",
    "#rootpath = '/home/romulo/DATA/Carolina/RR01/EC01_RRR01_SP_12600uA__20180103/'"
   ]
  },
  {
   "cell_type": "code",
   "execution_count": null,
   "metadata": {},
   "outputs": [],
   "source": [
    "#DONErootpath = '/home/sergio/Documentos/MemoriaPractII/DatosCaro/RR01/EC01_RRR01_SP_12600uA__2018-01-03_13-09-47/'\n",
    "rootpath = '/home/sergio/Documentos/MemoriaPractII/DatosCaro/RAT02/RAT02_SP_7__2017-01-11_18-46-49/'\n",
    "#DONErootpath = '/home/sergio/Documentos/MemoriaPractII/DatosCaro/RRR03/EC01_RRR03_SP_3500uA_2017-12-15_11-45-36/'\n",
    "#DONErootpath = '/home/sergio/Documentos/MemoriaPractII/DatosCaro/RC05/EC01_RC05_SP_10100uA_2017-12-14_17-00-09/'\n",
    "fullpath = rootpath +'*CH*.continuous'\n",
    "lista = glob(fullpath)\n",
    "lista = sorted(lista)\n",
    "lista"
   ]
  },
  {
   "cell_type": "code",
   "execution_count": null,
   "metadata": {
    "scrolled": true
   },
   "outputs": [],
   "source": [
    "# obtain sampling rate from first channel to obtain samplin freq\n",
    "i = 0\n",
    "data = OE.loadContinuous(lista[i])\n",
    "ad = data['data']\n",
    "orSampleRate = int(data['header']['sampleRate'])\n",
    "Nyquist = orSampleRate/2"
   ]
  },
  {
   "cell_type": "code",
   "execution_count": null,
   "metadata": {},
   "outputs": [],
   "source": [
    "print(orSampleRate)\n",
    "print(Nyquist)\n",
    "data"
   ]
  },
  {
   "cell_type": "code",
   "execution_count": null,
   "metadata": {},
   "outputs": [],
   "source": [
    "#Grab timestamps\n",
    "ts = data['timestamps']\n",
    "len(ts)\n",
    "aux = data['data']\n",
    "print (len(ts),len(aux)/30000,(ts[-1]-ts[0])/30000)\n",
    "aux"
   ]
  },
  {
   "cell_type": "markdown",
   "metadata": {},
   "source": [
    "All data in the GUI is timestamped. The timestamps are represented in int64 format, representing the sample count from the start of acquisition, which can be converted to seconds by dividing into the corresponding sample rate. In the case of continuous data, the timestamp corresponding to the first sample of each processing block can be obtained with the getTimestamp() method. For spikes and events, the timestamp is embedded into the data structure itself."
   ]
  },
  {
   "cell_type": "markdown",
   "metadata": {},
   "source": [
    "El csv tiene la información por canales, y a qué área corresponde cada canal. Solo para la rata 2 la información es distinta.\n",
    "\n",
    "Ratas 1,3,5 = 'RAT05_SP_10100uA_2017_12_14.csv'\n",
    "\n",
    "Rata 2 = 'channel_codes_Rata_R02.csv'"
   ]
  },
  {
   "cell_type": "code",
   "execution_count": null,
   "metadata": {},
   "outputs": [],
   "source": [
    "### filtra el lfp canal por canal\n",
    "#channelcodes = 'channel_codes_florencia_2.csv'\n",
    "#channelcodes = 'channel_codes_Rata_R02.csv'\n",
    "#channelcodes = 'channel_codes_RRR01_CO5_RR03.csv'\n",
    "\n",
    "##Channel codes de ratas 1,3 y 5\n",
    "#channelcodes = 'RAT05_SP_10100uA_2017_12_14.csv'\n",
    "##Channel codes de rata 2\n",
    "channelcodes = 'channel_codes_Rata_R02.csv'\n",
    "# order of the butter filter\n",
    "#N = 2\n",
    "# low cutoff freq\n",
    "#f1 = 0.5\n",
    "# high cut off freq\n",
    "#f2 = 150.0\n",
    "# band pass freqs expressed as Nyquist\n",
    "#Wn = array([f1/Nyquist, f2/Nyquist])\n",
    "# design parameters for the butter filter\n",
    "#b,a = scipy.signal.butter(N, Wn, btype='bandpass', analog=False)\n",
    "desiredSampleRate = 1000.0\n",
    "codes_df = pd.read_csv('/home/sergio/Documentos/MemoriaPractII/DatosCaro/'+channelcodes)\n",
    "df = pd.DataFrame([], columns=['Channel', \n",
    "                               'Area',\n",
    "                               'OriginalSampleRate',\n",
    "                               'SampleRate',\n",
    "                               'Use',\n",
    "                               'Timestamps at original sample rate',\n",
    "                               'LFP'])\n",
    "for i in range(0,len(lista)):\n",
    "    #print i, lista[i]\n",
    "    # lee el archivo en el i-esimo lugar de la lista y lo coloca en el diccionario data\n",
    "    data = OE.loadContinuous(lista[i])\n",
    "    # coloca la key data en el array aux\n",
    "    aux = data['data']\n",
    "    # filter the lfp signal in place\n",
    "    #aux = scipy.signal.filtfilt(b, a, aux, padlen=None)\n",
    "    # hace el donwsampling desde el sampling original hasta 1000 Hz\n",
    "    downsamplefactor = int(orSampleRate/desiredSampleRate)\n",
    "    # multiplo de downsampling factor\n",
    "    multiplo_dsf = int(len(aux)/downsamplefactor)\n",
    "    \n",
    "    # crear array de n x downsamplefactor para promediar \n",
    "    aux2 = aux[0:downsamplefactor*multiplo_dsf].reshape(-1, downsamplefactor)\n",
    "    \n",
    "    # promedio y con esto el downsampling esta finalizado\n",
    "    aux2 = aux2.mean(axis=1)\n",
    "    \n",
    "    # crear eje de tiempo para la señal down-sampleada\n",
    "    t2 = np.arange(1/desiredSampleRate,len(aux2)/desiredSampleRate + 1/desiredSampleRate,1/desiredSampleRate)\n",
    "    # guarda el nombre del canal en channel\n",
    "    # adquiere el nombre del canal, remueve comillas extras\n",
    "    channel = data['header']['channel'].strip(\"'\")\n",
    "    auxaux = codes_df.Area[codes_df.Channel==channel]\n",
    "    area = auxaux.values[0]\n",
    "    df2 = pd.DataFrame([[channel,\n",
    "                         area,\n",
    "                         orSampleRate,\n",
    "                         desiredSampleRate,\n",
    "                         1,\n",
    "                         data['timestamps'],\n",
    "                         aux2]],\n",
    "                       columns=['Channel',\n",
    "                                'Area',\n",
    "                                'OriginalSampleRate',\n",
    "                                'SampleRate',\n",
    "                                'Use',\n",
    "                                'Timestamps at original sample rate',\n",
    "                                'LFP'])\n",
    "    df = pd.concat([df, df2], axis = 0) \n",
    "    #break\n",
    "df.index = range(0, len(lista))"
   ]
  },
  {
   "cell_type": "code",
   "execution_count": null,
   "metadata": {
    "scrolled": true
   },
   "outputs": [],
   "source": [
    "df"
   ]
  },
  {
   "cell_type": "code",
   "execution_count": null,
   "metadata": {},
   "outputs": [],
   "source": [
    "# guardar el data frame con los LFP a un archivo pickle\n",
    "# poner aqui nombre del archivo pickle que se quiere guardar\n",
    "# nombre sujeto, fecha, condicion, etc.\n",
    "#file2save = 'RAW_R02_RAT02_SP7_20170111'\n",
    "#file2save='RAT02_SP_7_2017_01_11_18_46_49'\n",
    "#file2save = 'EC01_RRR01_SP_2650uA_2017-12-01'\n",
    "#file2save = 'RC05_SP_10100uA_20171214_170009'\n",
    "#file2save = 'EC01_RRR03_SP_3500uA_20171215'\n",
    "#file2save = 'EC01_RRR03_SP_3500uA_L-Dopa_20171215'\n",
    "#file2save='EC01_RRR03_SP_4800uA_20171221'\n",
    "#file2save = 'EC01_RRR03_SP_1240uA_20171212'\n",
    "#file2save = 'E01_RNA03_SP02_500mV_20170923'\n",
    "#file2save = 'EC01_RR01_SP_6000uA_20171229'\n",
    "\n",
    "#Cambios Sergio\n",
    "#file2save = 'EC01_RRR01_SP_12600uA__20180103'\n",
    "#file2save = 'EC01_RRR03_SP_3500uA_20171215'\n",
    "#file2save = 'EC01_RC05_SP_10100uA_20171214'\n",
    "file2save = 'RAT02_SP_7__20170111_184649'\n",
    "#Para python3, raw_input paso a ser input()\n",
    "#answer = raw_input('Cambió el nombre del archivo de output? (s/n):')\n",
    "answer = input('Cambió el nombre del archivo de output? (s/n):')\n",
    "if answer == 'n':\n",
    "    print ('Entonces cambielo')\n",
    "elif answer == 's':\n",
    "    print ('Guardando...')\n",
    "    pickle.dump( df, open( rootpath + \n",
    "                          'Raw_LFP_' + file2save + '.pickle', \"wb\" ) )\n",
    "    # print('Archivo',file2save)\n",
    "else:\n",
    "    print ('Entonces cambielo')"
   ]
  },
  {
   "cell_type": "code",
   "execution_count": null,
   "metadata": {
    "scrolled": true
   },
   "outputs": [],
   "source": [
    "# Guarda archivo con los timestamps del LFP\n",
    "pickle.dump([orSampleRate,data['timestamps']],\n",
    "            open( rootpath +\n",
    "                 'LFP_timestamps_' + file2save + '.pickle', \"wb\" ) )"
   ]
  },
  {
   "cell_type": "code",
   "execution_count": null,
   "metadata": {},
   "outputs": [],
   "source": [
    "# opcional\n",
    "# muestra señal filtrada con pasabanda para spikes\n",
    "N = 2\n",
    "f1 = 300.0\n",
    "f2=3000.0\n",
    "Wn = array([f1/Nyquist, f2/Nyquist])\n",
    "b,a = scipy.signal.butter(N, Wn, btype='bandpass', analog=False)\n",
    "for i in range(50,51):\n",
    "    \n",
    "    #print i, lista[i]\n",
    "    # lee el archivo en el i-esimo lugar de la lista y lo coloca en el diccionario data\n",
    "    data = OE.loadContinuous(lista[i])\n",
    "    ad = data['data']\n",
    "    # filter the signal\n",
    "    adfilt = scipy.signal.filtfilt(b, a, ad, padlen=None)\n",
    "    fig, ax = subplots()\n",
    "    auxstr=data['header']['channel'].strip(\"'\")\n",
    "    #ax.title()\n",
    "    title(auxstr)\n",
    "    #ax.plot(ad)\n",
    "    ax.plot(adfilt,'r')\n",
    "    ax.set_xlim([0, 600000])\n",
    "    #break"
   ]
  },
  {
   "cell_type": "code",
   "execution_count": null,
   "metadata": {},
   "outputs": [],
   "source": []
  }
 ],
 "metadata": {
  "kernelspec": {
   "display_name": "Python 3",
   "language": "python",
   "name": "python3"
  },
  "language_info": {
   "codemirror_mode": {
    "name": "ipython",
    "version": 3
   },
   "file_extension": ".py",
   "mimetype": "text/x-python",
   "name": "python",
   "nbconvert_exporter": "python",
   "pygments_lexer": "ipython3",
   "version": "3.6.3"
  }
 },
 "nbformat": 4,
 "nbformat_minor": 1
}
